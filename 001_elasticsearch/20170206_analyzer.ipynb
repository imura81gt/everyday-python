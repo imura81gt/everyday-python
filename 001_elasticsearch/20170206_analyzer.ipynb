{
 "cells": [
  {
   "cell_type": "code",
   "execution_count": 1,
   "metadata": {
    "collapsed": false,
    "deletable": true,
    "editable": true
   },
   "outputs": [],
   "source": [
    "# -*- coding: utf-8 -*-\n",
    "%load_ext autoreload\n",
    "%reload_ext autoreload\n",
    "%autoreload 2\n",
    "\n",
    "import sys\n",
    "import json\n",
    "import pprint\n",
    "sys.path.append(\"lib/\")\n",
    "import pandas as pd\n",
    "import numpy as np\n",
    "from elasticsearch import Elasticsearch\n",
    "import graphviz as gv\n",
    "\n",
    "INDEX='my-index'\n",
    "TYPE_NAME='my-type'\n",
    "\n",
    "es = Elasticsearch()\n"
   ]
  },
  {
   "cell_type": "code",
   "execution_count": 2,
   "metadata": {
    "collapsed": true,
    "deletable": true,
    "editable": true
   },
   "outputs": [],
   "source": [
    "# bodyで指定するのが推奨のようなWarnが出るので変更\n",
    "# 「tokenizer request parameter is deprecated and will be removed in the next major release. Please use the JSON in the request body instead request param」\n",
    "\n",
    "def analyzer(index, body, explain=False):\n",
    "    analyzer = es.indices.analyze(\n",
    "        index=index,\n",
    "        body=body,\n",
    "    )\n",
    "    return analyzer\n"
   ]
  },
  {
   "cell_type": "markdown",
   "metadata": {
    "deletable": true,
    "editable": true
   },
   "source": [
    " Japanese (kuromoji) Analysis plugin\n",
    " ===\n",
    "\n",
    "Japanese (kuromoji) Analysis Plugin | Elasticsearch Plugins and Integrations [5.1] | Elastic\n",
    "https://www.elastic.co/guide/en/elasticsearch/plugins/5.1/analysis-kuromoji.html\n",
    "\n",
    "analyzer\n",
    "---\n",
    " \n",
    "* kuromoji analyzer\n",
    "    * kuromoji_analyzer と言うものがあるわけではなさそう\n",
    "    * 以下の character filter, tokenizer, token filter を合わせたプラグインの総称？\n",
    "\n",
    "character filter\n",
    "---\n",
    "\n",
    "* kuromoji_iteration_mark character filter\n",
    "    * 踊り文字を正規化する\n",
    "    * normalize_kanji: 漢字の繰り返し（々）を正規化する Default : True\n",
    "    * normalize_kana:かなのくりかえし（ヽヾ）を正規化する Default : True\n",
    "\n",
    "tokenizer\n",
    "---\n",
    "\n",
    "* kuromoji_tokenizer\n",
    "\n",
    "token filter\n",
    "---\n",
    "\n",
    "* kuromoji_baseform token filter\n",
    "* kuromoji_part_of_speech token filter\n",
    "* kuromoji_readingform token filter\n",
    "* kuromoji_stemmer token filter"
   ]
  },
  {
   "cell_type": "markdown",
   "metadata": {
    "deletable": true,
    "editable": true
   },
   "source": [
    "character filter: kuromoji_iteration_mark\n",
    "-----"
   ]
  },
  {
   "cell_type": "code",
   "execution_count": 3,
   "metadata": {
    "collapsed": false,
    "deletable": true,
    "editable": true
   },
   "outputs": [
    {
     "name": "stdout",
     "output_type": "stream",
     "text": [
      "[\n",
      "    \"度度\"\n",
      "]\n"
     ]
    }
   ],
   "source": [
    "body={}\n",
    "body[\"char_filter\"] = [\"kuromoji_iteration_mark\"]\n",
    "body[\"tokenizer\"] = \"kuromoji_tokenizer\"\n",
    "#body[\"filter\"] = [\"\"]\n",
    "body[\"text\"] = \"度々\"\n",
    "\n",
    "print(json.dumps([ i[\"token\"] for i in analyzer(INDEX,  body=body, explain=False)[\"tokens\"] ], indent=4, ensure_ascii=False))"
   ]
  },
  {
   "cell_type": "code",
   "execution_count": 4,
   "metadata": {
    "collapsed": false,
    "deletable": true,
    "editable": true
   },
   "outputs": [
    {
     "name": "stdout",
     "output_type": "stream",
     "text": [
      "[\n",
      "    \"か\", \n",
      "    \"が\"\n",
      "]\n"
     ]
    }
   ],
   "source": [
    "body[\"text\"] = \"かゞ\"\n",
    "\n",
    "print(json.dumps([ i[\"token\"] for i in analyzer(INDEX,  body=body, explain=False)[\"tokens\"] ], indent=4, ensure_ascii=False))"
   ]
  }
 ],
 "metadata": {
  "kernelspec": {
   "display_name": "Python 2",
   "language": "python",
   "name": "python2"
  },
  "language_info": {
   "codemirror_mode": {
    "name": "ipython",
    "version": 2
   },
   "file_extension": ".py",
   "mimetype": "text/x-python",
   "name": "python",
   "nbconvert_exporter": "python",
   "pygments_lexer": "ipython2",
   "version": "2.7.12"
  }
 },
 "nbformat": 4,
 "nbformat_minor": 2
}
