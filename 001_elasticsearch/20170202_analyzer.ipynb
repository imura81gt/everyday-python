{
 "cells": [
  {
   "cell_type": "markdown",
   "metadata": {},
   "source": [
    "Analyzer\n",
    "==\n",
    "\n",
    "\n",
    "Tokenizer\n",
    "-------------\n",
    "\n",
    "Tokenizers | Elasticsearch Reference [5.1] | Elastic\n",
    "\n",
    "https://www.elastic.co/guide/en/elasticsearch/reference/5.1/analysis-tokenizers.html\n",
    "\n",
    "### Word Oriented Tokenizers\n",
    "\n",
    "* standard\n",
    "* letter\n",
    "* lowercase\n",
    "* whitespace\n",
    "* uax_url_email\n",
    "* classic\n",
    "* thai\n",
    "\n",
    "### Partial Word Tokenizersedit\n",
    "\n",
    "* ngram\n",
    "* edge_ngram\n",
    "\n",
    "### Structured Text Tokenizers\n",
    "\n",
    "* keyword\n",
    "* pattern\n",
    "* path_hierarchy\n",
    "\n"
   ]
  },
  {
   "cell_type": "code",
   "execution_count": 92,
   "metadata": {
    "collapsed": false
   },
   "outputs": [
    {
     "name": "stdout",
     "output_type": "stream",
     "text": [
      "The autoreload extension is already loaded. To reload it, use:\n",
      "  %reload_ext autoreload\n"
     ]
    }
   ],
   "source": [
    "# -*- coding: utf-8 -*-\n",
    "%load_ext autoreload\n",
    "%autoreload 2\n",
    "\n",
    "import sys\n",
    "import json\n",
    "import pprint\n",
    "sys.path.append(\"lib/\")\n",
    "import pandas as pd\n",
    "import numpy as np\n",
    "from elasticsearch import Elasticsearch\n",
    "import graphviz as gv\n",
    "\n",
    "INDEX='my-index'\n",
    "TYPE_NAME='my-type'\n",
    "\n",
    "es = Elasticsearch('localhost:9200')"
   ]
  },
  {
   "cell_type": "code",
   "execution_count": 93,
   "metadata": {
    "collapsed": false
   },
   "outputs": [],
   "source": [
    "def analyzer(index, analyzer, char_filters, tokenizer, filters, text, explain=False):\n",
    "    analyzer = es.indices.analyze(\n",
    "        index=index,\n",
    "        text=text,\n",
    "        char_filters=char_filters,\n",
    "        tokenizer=tokenizer,\n",
    "        filters=filters,\n",
    "        explain=explain\n",
    "    )\n",
    "    return analyzer"
   ]
  },
  {
   "cell_type": "markdown",
   "metadata": {},
   "source": [
    "Structured Text Tokenizers: keyword\n",
    "-----------\n",
    "\n",
    "\n",
    "Structured Text Tokenizers: pattern\n",
    "-----------\n",
    "\n",
    "\n",
    "Structured Text Tokenizers: path_hierarchy\n",
    "-----------\n"
   ]
  },
  {
   "cell_type": "code",
   "execution_count": 105,
   "metadata": {
    "collapsed": false
   },
   "outputs": [
    {
     "name": "stdout",
     "output_type": "stream",
     "text": [
      "[\n",
      "    \"I have a pen. I have an apple.\"\n",
      "]\n"
     ]
    }
   ],
   "source": [
    "char_filters=[]\n",
    "tokenizer = \"keyword\"\n",
    "filters=[]\n",
    "\n",
    "text=\"I have a pen. I have an apple.\"\n",
    "\n",
    "print(json.dumps([ i[\"token\"] for i in analyzer(INDEX, analyzer, char_filters, tokenizer, filters, text, explain=False)[\"tokens\"] ], indent=4, ensure_ascii=False))"
   ]
  },
  {
   "cell_type": "code",
   "execution_count": 104,
   "metadata": {
    "collapsed": false
   },
   "outputs": [
    {
     "name": "stdout",
     "output_type": "stream",
     "text": [
      "[\n",
      "    \"I\", \n",
      "    \"have\", \n",
      "    \"a\", \n",
      "    \"pen\", \n",
      "    \"I\", \n",
      "    \"have\", \n",
      "    \"an\", \n",
      "    \"apple\", \n",
      "    \"Yes\", \n",
      "    \"I\", \n",
      "    \"have\"\n",
      "]\n"
     ]
    }
   ],
   "source": [
    "text=\"I have a pen. I have an apple. Yes, I have.\"\n",
    "\n",
    "char_filters=[]\n",
    "tokenizer = \"pattern\"\n",
    "filters=[]\n",
    "\n",
    "print(json.dumps([ i[\"token\"] for i in analyzer(INDEX, analyzer, char_filters, tokenizer, filters, text, explain=False)[\"tokens\"] ], indent=4, ensure_ascii=False))"
   ]
  },
  {
   "cell_type": "code",
   "execution_count": 99,
   "metadata": {
    "collapsed": false
   },
   "outputs": [
    {
     "data": {
      "text/plain": [
       "{u'acknowledged': True}"
      ]
     },
     "execution_count": 99,
     "metadata": {},
     "output_type": "execute_result"
    }
   ],
   "source": [
    "body=\"\"\"\n",
    "{\n",
    "  \"settings\": {\n",
    "    \"analysis\": {\n",
    "      \"tokenizer\": {\n",
    "        \"I_tokenizer\": {\n",
    "          \"type\": \"pattern\",\n",
    "          \"pattern\": \"I\"\n",
    "        }\n",
    "      }\n",
    "    }\n",
    "  }\n",
    "}\n",
    "\"\"\"\n",
    "\n",
    "es.indices.close(index=INDEX)\n",
    "es.indices.put_settings(index=INDEX, body=body)\n",
    "es.indices.open(index=INDEX)\n"
   ]
  },
  {
   "cell_type": "code",
   "execution_count": 103,
   "metadata": {
    "collapsed": false
   },
   "outputs": [
    {
     "name": "stdout",
     "output_type": "stream",
     "text": [
      "[\n",
      "    \" have a pen. \", \n",
      "    \" have an apple. Yes\", \n",
      "    \" \", \n",
      "    \" have.\"\n",
      "]\n"
     ]
    }
   ],
   "source": [
    "text=\"I have a pen. I have an apple. Yes, I have.\"\n",
    "\n",
    "char_filters=[]\n",
    "tokenizer = \"I_tokenizer\"\n",
    "filters=[]\n",
    "\n",
    "print(json.dumps([ i[\"token\"] for i in analyzer(INDEX, analyzer, char_filters, tokenizer, filters, text, explain=False)[\"tokens\"] ], indent=4, ensure_ascii=False))"
   ]
  },
  {
   "cell_type": "code",
   "execution_count": 108,
   "metadata": {
    "collapsed": false
   },
   "outputs": [
    {
     "name": "stdout",
     "output_type": "stream",
     "text": [
      "[\n",
      "    \"have a pen.\", \n",
      "    \"have an apple. Yes\", \n",
      "    \"\", \n",
      "    \"have.\"\n",
      "]\n"
     ]
    }
   ],
   "source": [
    "# 前後の空白削除は trim token filter を使う\n",
    "text=\"I have a pen. I have an apple. Yes, I have.\"\n",
    "\n",
    "char_filters=[]\n",
    "tokenizer = \"I_tokenizer\"\n",
    "filters=[\"trim\"]\n",
    "\n",
    "print(json.dumps([ i[\"token\"] for i in analyzer(INDEX, analyzer, char_filters, tokenizer, filters, text, explain=False)[\"tokens\"] ], indent=4, ensure_ascii=False))"
   ]
  },
  {
   "cell_type": "code",
   "execution_count": 56,
   "metadata": {
    "collapsed": false
   },
   "outputs": [
    {
     "name": "stdout",
     "output_type": "stream",
     "text": [
      "{\n",
      "    \"tokens\": [\n",
      "        {\n",
      "            \"end_offset\": 2, \n",
      "            \"token\": \"新宿\", \n",
      "            \"type\": \"word\", \n",
      "            \"start_offset\": 0, \n",
      "            \"position\": 0\n",
      "        }, \n",
      "        {\n",
      "            \"end_offset\": 3, \n",
      "            \"token\": \"三\", \n",
      "            \"type\": \"word\", \n",
      "            \"start_offset\": 2, \n",
      "            \"position\": 1\n",
      "        }, \n",
      "        {\n",
      "            \"end_offset\": 5, \n",
      "            \"token\": \"丁目\", \n",
      "            \"type\": \"word\", \n",
      "            \"start_offset\": 3, \n",
      "            \"position\": 2\n",
      "        }\n",
      "    ]\n",
      "}\n"
     ]
    }
   ],
   "source": [
    "char_filters=[]\n",
    "tokenizer = \"kuromoji_tokenizer\"\n",
    "filters=[]\n",
    "\n",
    "text=\"新宿三丁目\"\n",
    "    \n",
    "print_analyzer(INDEX, analyzer, char_filters, tokenizer, filters, text)"
   ]
  },
  {
   "cell_type": "code",
   "execution_count": 57,
   "metadata": {
    "collapsed": false
   },
   "outputs": [
    {
     "name": "stdout",
     "output_type": "stream",
     "text": [
      "{\n",
      "    \"tokens\": [\n",
      "        {\n",
      "            \"end_offset\": 1, \n",
      "            \"token\": \"新\", \n",
      "            \"type\": \"<IDEOGRAPHIC>\", \n",
      "            \"start_offset\": 0, \n",
      "            \"position\": 0\n",
      "        }, \n",
      "        {\n",
      "            \"end_offset\": 2, \n",
      "            \"token\": \"宿\", \n",
      "            \"type\": \"<IDEOGRAPHIC>\", \n",
      "            \"start_offset\": 1, \n",
      "            \"position\": 1\n",
      "        }, \n",
      "        {\n",
      "            \"end_offset\": 3, \n",
      "            \"token\": \"三\", \n",
      "            \"type\": \"<IDEOGRAPHIC>\", \n",
      "            \"start_offset\": 2, \n",
      "            \"position\": 2\n",
      "        }, \n",
      "        {\n",
      "            \"end_offset\": 4, \n",
      "            \"token\": \"丁\", \n",
      "            \"type\": \"<IDEOGRAPHIC>\", \n",
      "            \"start_offset\": 3, \n",
      "            \"position\": 3\n",
      "        }, \n",
      "        {\n",
      "            \"end_offset\": 5, \n",
      "            \"token\": \"目\", \n",
      "            \"type\": \"<IDEOGRAPHIC>\", \n",
      "            \"start_offset\": 4, \n",
      "            \"position\": 4\n",
      "        }\n",
      "    ]\n",
      "}\n"
     ]
    }
   ],
   "source": [
    "char_filters=[]\n",
    "tokenizer = \"standard\"\n",
    "filters=[]\n",
    "\n",
    "text=\"新宿三丁目\"\n",
    "    \n",
    "print_analyzer(INDEX, analyzer, char_filters, tokenizer, filters, text)"
   ]
  }
 ],
 "metadata": {
  "kernelspec": {
   "display_name": "Python 2",
   "language": "python",
   "name": "python2"
  },
  "language_info": {
   "codemirror_mode": {
    "name": "ipython",
    "version": 2
   },
   "file_extension": ".py",
   "mimetype": "text/x-python",
   "name": "python",
   "nbconvert_exporter": "python",
   "pygments_lexer": "ipython2",
   "version": "2.7.12"
  }
 },
 "nbformat": 4,
 "nbformat_minor": 2
}
