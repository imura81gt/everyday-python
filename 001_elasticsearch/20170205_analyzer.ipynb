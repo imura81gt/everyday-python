{
 "cells": [
  {
   "cell_type": "code",
   "execution_count": 1,
   "metadata": {
    "collapsed": false,
    "deletable": true,
    "editable": true,
    "scrolled": true
   },
   "outputs": [
    {
     "name": "stdout",
     "output_type": "stream",
     "text": [
      "Building elasticsearch\n",
      "Step 1/6 : FROM elasticsearch:5.1\n",
      " ---> 3b9ab09f293c\n",
      "Step 2/6 : RUN bin/elasticsearch-plugin install analysis-icu\n",
      " ---> Using cache\n",
      " ---> 08aba46dc793\n",
      "Step 3/6 : RUN bin/elasticsearch-plugin install analysis-kuromoji\n",
      " ---> Using cache\n",
      " ---> 72c11d566500\n",
      "Step 4/6 : RUN bin/elasticsearch-plugin install analysis-phonetic\n",
      " ---> Using cache\n",
      " ---> 0cfb50a74429\n",
      "Step 5/6 : EXPOSE 9200\n",
      " ---> Using cache\n",
      " ---> 62d7ee26a99c\n",
      "Step 6/6 : CMD elasticsearch -Etransport.host=0.0.0.0\n",
      " ---> Using cache\n",
      " ---> cab13a608c59\n",
      "Successfully built cab13a608c59\n",
      "Building kibana\n",
      "Step 1/1 : FROM kibana:5.1\n",
      " ---> 244bc3968631\n",
      "Successfully built 244bc3968631\n",
      "docker_elasticsearch_1 is up-to-date\n",
      "docker_kibana_1 is up-to-date\n",
      "\u001b[0m"
     ]
    }
   ],
   "source": [
    "# es5.1 & kibana5.1起動\n",
    "!cd docker && docker-compose up --build -d"
   ]
  },
  {
   "cell_type": "code",
   "execution_count": 2,
   "metadata": {
    "collapsed": false,
    "deletable": true,
    "editable": true
   },
   "outputs": [],
   "source": [
    "# -*- coding: utf-8 -*-\n",
    "%load_ext autoreload\n",
    "%reload_ext autoreload\n",
    "%autoreload 2\n",
    "\n",
    "import sys\n",
    "import json\n",
    "import pprint\n",
    "sys.path.append(\"lib/\")\n",
    "import pandas as pd\n",
    "import numpy as np\n",
    "from elasticsearch import Elasticsearch\n",
    "import graphviz as gv\n",
    "\n",
    "INDEX='my-index'\n",
    "TYPE_NAME='my-type'\n",
    "\n",
    "es = Elasticsearch(\n",
    "    host='localhost',\n",
    "    port=9200,\n",
    "    use_ssl=False\n",
    ")\n",
    "#es = Elasticsearch()"
   ]
  },
  {
   "cell_type": "code",
   "execution_count": 3,
   "metadata": {
    "collapsed": false,
    "deletable": true,
    "editable": true
   },
   "outputs": [],
   "source": [
    "#2.3.0にあったchar_filters, filters が廃止\n",
    "def analyzer(index, analyzer, char_filters, tokenizer, filters, text, explain=False):\n",
    "    analyzer = es.indices.analyze(\n",
    "        index=index,\n",
    "        text=text,\n",
    "        char_filter=char_filters,\n",
    "        tokenizer=tokenizer,\n",
    "        filter=filters,\n",
    "        explain=explain\n",
    "    )\n",
    "    return analyzer"
   ]
  },
  {
   "cell_type": "markdown",
   "metadata": {
    "deletable": true,
    "editable": true
   },
   "source": [
    "Analyzer\n",
    "==\n",
    "\n",
    "\n",
    "Tokenizer\n",
    "-------------\n",
    "\n",
    "Tokenizers | Elasticsearch Reference [5.1] | Elastic\n",
    "\n",
    "https://www.elastic.co/guide/en/elasticsearch/reference/5.1/analysis-tokenizers.html\n",
    "\n",
    "について学ぶ\n",
    "\n",
    "種類\n",
    "-------------\n",
    "\n",
    "* Word Oriented Tokenizers\n",
    "* Partial Word Tokenizersedit\n",
    "* Structured Text Tokenizers\n",
    "\n",
    "がある。\n",
    "\n",
    "### Word Oriented Tokenizers\n",
    "\n",
    "* [ ]standard\n",
    "* [ ]letter\n",
    "* [ ]lowercase\n",
    "* [ ]whitespace\n",
    "* [ ]uax_url_email\n",
    "* [ ]classic\n",
    "* [ ]thai\n",
    "\n",
    "### Partial Word Tokenizersedit\n",
    "\n",
    "* [ ]ngram\n",
    "* [ ]edge_ngram\n",
    "\n",
    "### Structured Text Tokenizers\n",
    "\n",
    "- [x] keyword\n",
    "- [x] pattern\n",
    "- [x] path_hierarchy\n",
    "\n"
   ]
  },
  {
   "cell_type": "markdown",
   "metadata": {
    "deletable": true,
    "editable": true
   },
   "source": [
    "Partial Word Tokenizersedit: ngram\n",
    "-----------\n",
    "https://www.elastic.co/guide/en/elasticsearch/reference/current/analysis-ngram-tokenizer.html\n",
    "n文字で切り取り"
   ]
  },
  {
   "cell_type": "code",
   "execution_count": 4,
   "metadata": {
    "collapsed": false,
    "deletable": true,
    "editable": true
   },
   "outputs": [
    {
     "name": "stdout",
     "output_type": "stream",
     "text": [
      "[\n",
      "    \"吾\", \n",
      "    \"吾輩\", \n",
      "    \"輩\", \n",
      "    \"輩は\", \n",
      "    \"は\", \n",
      "    \"は猫\", \n",
      "    \"猫\", \n",
      "    \"猫で\", \n",
      "    \"で\", \n",
      "    \"であ\", \n",
      "    \"あ\", \n",
      "    \"ある\", \n",
      "    \"る\", \n",
      "    \"る。\", \n",
      "    \"。\", \n",
      "    \"。名\", \n",
      "    \"名\", \n",
      "    \"名前\", \n",
      "    \"前\", \n",
      "    \"前は\", \n",
      "    \"は\", \n",
      "    \"はま\", \n",
      "    \"ま\", \n",
      "    \"まだ\", \n",
      "    \"だ\", \n",
      "    \"だな\", \n",
      "    \"な\", \n",
      "    \"ない\", \n",
      "    \"い\", \n",
      "    \"い。\", \n",
      "    \"。\"\n",
      "]\n"
     ]
    }
   ],
   "source": [
    "char_filters = \"\"\n",
    "tokenizer = \"ngram\"\n",
    "filters = \"\"\n",
    "\n",
    "text=\"吾輩は猫である。名前はまだない。\"\n",
    "print(json.dumps([ i[\"token\"] for i in analyzer(INDEX, analyzer, char_filters, tokenizer, filters, text, explain=False)[\"tokens\"] ], indent=4, ensure_ascii=False))"
   ]
  },
  {
   "cell_type": "code",
   "execution_count": 5,
   "metadata": {
    "collapsed": false,
    "deletable": true,
    "editable": true
   },
   "outputs": [
    {
     "data": {
      "text/plain": [
       "{u'acknowledged': True}"
      ]
     },
     "execution_count": 5,
     "metadata": {},
     "output_type": "execute_result"
    }
   ],
   "source": [
    "body=\"\"\"\n",
    "{\n",
    "  \"settings\": {\n",
    "    \"analysis\": {\n",
    "      \"tokenizer\": {\n",
    "        \"ngram_tokenizer\": {\n",
    "          \"type\": \"ngram\",\n",
    "          \"min_gram\": 3,\n",
    "          \"max_gram\": 3\n",
    "        }\n",
    "      }\n",
    "    }\n",
    "  }\n",
    "}\n",
    "\"\"\"\n",
    "\n",
    "es.indices.close(index=INDEX)\n",
    "es.indices.put_settings(index=INDEX, body=body)\n",
    "es.indices.open(index=INDEX)"
   ]
  },
  {
   "cell_type": "code",
   "execution_count": 6,
   "metadata": {
    "collapsed": false,
    "deletable": true,
    "editable": true
   },
   "outputs": [
    {
     "name": "stdout",
     "output_type": "stream",
     "text": [
      "[\n",
      "    \"吾輩は\", \n",
      "    \"輩は猫\", \n",
      "    \"は猫で\", \n",
      "    \"猫であ\", \n",
      "    \"である\", \n",
      "    \"ある。\", \n",
      "    \"る。名\", \n",
      "    \"。名前\", \n",
      "    \"名前は\", \n",
      "    \"前はま\", \n",
      "    \"はまだ\", \n",
      "    \"まだな\", \n",
      "    \"だない\", \n",
      "    \"ない。\"\n",
      "]\n"
     ]
    }
   ],
   "source": [
    "char_filters = \"\"\n",
    "tokenizer = \"ngram_tokenizer\"\n",
    "filters = \"\"\n",
    "\n",
    "text=\"吾輩は猫である。名前はまだない。\"\n",
    "print(json.dumps([ i[\"token\"] for i in analyzer(INDEX, analyzer, char_filters, tokenizer, filters, text, explain=False)[\"tokens\"] ], indent=4, ensure_ascii=False))"
   ]
  },
  {
   "cell_type": "markdown",
   "metadata": {
    "deletable": true,
    "editable": true
   },
   "source": [
    "Partial Word Tokenizersedit: edge_ngram\n",
    "-----------\n",
    "\n",
    "https://www.elastic.co/guide/en/elasticsearch/reference/current/analysis-edgengram-tokenizer.html\n",
    "\n"
   ]
  },
  {
   "cell_type": "code",
   "execution_count": 7,
   "metadata": {
    "collapsed": false,
    "deletable": true,
    "editable": true
   },
   "outputs": [
    {
     "name": "stdout",
     "output_type": "stream",
     "text": [
      "[\n",
      "    \"吾\", \n",
      "    \"吾輩\"\n",
      "]\n"
     ]
    }
   ],
   "source": [
    "text=\"吾輩は猫である。名前はまだない。\"\n",
    "\n",
    "char_filters=\"\"\n",
    "tokenizer = \"edge_ngram\"\n",
    "filters=\"\"\n",
    "\n",
    "\n",
    "print(json.dumps([ i[\"token\"] for i in analyzer(INDEX, analyzer, char_filters, tokenizer, filters, text, explain=False)[\"tokens\"] ], indent=4, ensure_ascii=False))"
   ]
  },
  {
   "cell_type": "markdown",
   "metadata": {
    "deletable": true,
    "editable": true
   },
   "source": [
    "### edge_ngram tokenizerその２\n",
    "\n",
    "30文字まで 区切ってみる\n"
   ]
  },
  {
   "cell_type": "code",
   "execution_count": 8,
   "metadata": {
    "collapsed": false,
    "deletable": true,
    "editable": true
   },
   "outputs": [
    {
     "data": {
      "text/plain": [
       "{u'acknowledged': True}"
      ]
     },
     "execution_count": 8,
     "metadata": {},
     "output_type": "execute_result"
    }
   ],
   "source": [
    "body=\"\"\"\n",
    "{\n",
    "  \"settings\": {\n",
    "    \"analysis\": {\n",
    "      \"tokenizer\": {\n",
    "        \"engram_tokenizer\": {\n",
    "          \"type\": \"edge_ngram\",\n",
    "          \"min_gram\": 2,\n",
    "          \"max_gram\": 10\n",
    "        }\n",
    "      }\n",
    "    }\n",
    "  }\n",
    "}\n",
    "\"\"\"\n",
    "\n",
    "es.indices.close(index=INDEX)\n",
    "es.indices.put_settings(index=INDEX, body=body)\n",
    "es.indices.open(index=INDEX)\n"
   ]
  },
  {
   "cell_type": "code",
   "execution_count": 9,
   "metadata": {
    "collapsed": false,
    "deletable": true,
    "editable": true
   },
   "outputs": [
    {
     "name": "stdout",
     "output_type": "stream",
     "text": [
      "[\n",
      "    \"吾輩\", \n",
      "    \"吾輩は\", \n",
      "    \"吾輩は猫\", \n",
      "    \"吾輩は猫で\", \n",
      "    \"吾輩は猫であ\", \n",
      "    \"吾輩は猫である\", \n",
      "    \"吾輩は猫である。\", \n",
      "    \"吾輩は猫である。名\", \n",
      "    \"吾輩は猫である。名前\"\n",
      "]\n"
     ]
    }
   ],
   "source": [
    "text=\"吾輩は猫である。名前はまだない。\"\n",
    "\n",
    "char_filters=[]\n",
    "tokenizer = \"engram_tokenizer\"\n",
    "filters=[]\n",
    "\n",
    "print(json.dumps([ i[\"token\"] for i in analyzer(INDEX, analyzer, char_filters, tokenizer, filters, text, explain=False)[\"tokens\"] ], indent=4, ensure_ascii=False))"
   ]
  },
  {
   "cell_type": "code",
   "execution_count": null,
   "metadata": {
    "collapsed": true,
    "deletable": true,
    "editable": true
   },
   "outputs": [],
   "source": []
  }
 ],
 "metadata": {
  "kernelspec": {
   "display_name": "Python 2",
   "language": "python",
   "name": "python2"
  },
  "language_info": {
   "codemirror_mode": {
    "name": "ipython",
    "version": 2
   },
   "file_extension": ".py",
   "mimetype": "text/x-python",
   "name": "python",
   "nbconvert_exporter": "python",
   "pygments_lexer": "ipython2",
   "version": "2.7.12"
  }
 },
 "nbformat": 4,
 "nbformat_minor": 2
}
