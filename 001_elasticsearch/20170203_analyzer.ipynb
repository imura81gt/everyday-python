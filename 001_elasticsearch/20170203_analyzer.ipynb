{
 "cells": [
  {
   "cell_type": "code",
   "execution_count": 1,
   "metadata": {
    "collapsed": false,
    "deletable": true,
    "editable": true,
    "scrolled": true
   },
   "outputs": [
    {
     "name": "stdout",
     "output_type": "stream",
     "text": [
      "Building elasticsearch\n",
      "Step 1/6 : FROM elasticsearch:5.1\n",
      " ---> 3b9ab09f293c\n",
      "Step 2/6 : RUN bin/elasticsearch-plugin install analysis-icu\n",
      " ---> Using cache\n",
      " ---> d45f30516d2e\n",
      "Step 3/6 : RUN bin/elasticsearch-plugin install analysis-kuromoji\n",
      " ---> Using cache\n",
      " ---> 86b7cb36ca46\n",
      "Step 4/6 : RUN bin/elasticsearch-plugin install analysis-phonetic\n",
      " ---> Using cache\n",
      " ---> d8e645b6c1ef\n",
      "Step 5/6 : EXPOSE 9200\n",
      " ---> Using cache\n",
      " ---> 90702b10f3da\n",
      "Step 6/6 : CMD elasticsearch -Etransport.host=0.0.0.0\n",
      " ---> Using cache\n",
      " ---> 0d58485ca1c1\n",
      "Successfully built 0d58485ca1c1\n",
      "Building kibana\n",
      "Step 1/1 : FROM kibana:5.1\n",
      " ---> 244bc3968631\n",
      "Successfully built 244bc3968631\n",
      "docker_elasticsearch_1 is up-to-date\n",
      "docker_kibana_1 is up-to-date\n",
      "\u001b[0m"
     ]
    }
   ],
   "source": [
    "# es5.1 & kibana5.1起動\n",
    "!cd docker && docker-compose up --build -d"
   ]
  },
  {
   "cell_type": "code",
   "execution_count": 2,
   "metadata": {
    "collapsed": false,
    "deletable": true,
    "editable": true
   },
   "outputs": [],
   "source": [
    "# -*- coding: utf-8 -*-\n",
    "%reload_ext autoreload\n",
    "%autoreload 2\n",
    "\n",
    "import sys\n",
    "import json\n",
    "import pprint\n",
    "sys.path.append(\"lib/\")\n",
    "import pandas as pd\n",
    "import numpy as np\n",
    "from elasticsearch import Elasticsearch\n",
    "import graphviz as gv\n",
    "\n",
    "INDEX='my-index'\n",
    "TYPE_NAME='my-type'\n",
    "\n",
    "es = Elasticsearch(\n",
    "    host='localhost',\n",
    "    port=9200,\n",
    "    use_ssl=False\n",
    ")\n",
    "#es = Elasticsearch()"
   ]
  },
  {
   "cell_type": "code",
   "execution_count": 3,
   "metadata": {
    "collapsed": false,
    "deletable": true,
    "editable": true
   },
   "outputs": [],
   "source": [
    "#2.3.0にあったchar_filters, filters が廃止\n",
    "def analyzer(index, analyzer, char_filters, tokenizer, filters, text, explain=False):\n",
    "    analyzer = es.indices.analyze(\n",
    "        index=index,\n",
    "        text=text,\n",
    "        char_filter=char_filters,\n",
    "        tokenizer=tokenizer,\n",
    "        filter=filters,\n",
    "        explain=explain\n",
    "    )\n",
    "    return analyzer"
   ]
  },
  {
   "cell_type": "markdown",
   "metadata": {
    "deletable": true,
    "editable": true
   },
   "source": [
    "Analyzer\n",
    "==\n",
    "\n",
    "\n",
    "Tokenizer\n",
    "-------------\n",
    "\n",
    "Tokenizers | Elasticsearch Reference [5.1] | Elastic\n",
    "\n",
    "https://www.elastic.co/guide/en/elasticsearch/reference/5.1/analysis-tokenizers.html\n",
    "\n",
    "について学ぶ\n",
    "\n",
    "種類\n",
    "-------------\n",
    "\n",
    "- Word Oriented Tokenizers\n",
    "- Partial Word Tokenizersedit\n",
    "- Structured Text Tokenizers\n",
    "\n",
    "がある。\n",
    "\n",
    "### Word Oriented Tokenizers\n",
    "\n",
    "* standard\n",
    "* letter\n",
    "* lowercase\n",
    "* whitespace\n",
    "* uax_url_email\n",
    "* classic\n",
    "* thai\n",
    "\n",
    "### Partial Word Tokenizersedit\n",
    "\n",
    "* ngram\n",
    "* edge_ngram\n",
    "\n",
    "### Structured Text Tokenizers\n",
    "\n",
    "* keyword\n",
    "* pattern\n",
    "* path_hierarchy\n",
    "\n"
   ]
  },
  {
   "cell_type": "markdown",
   "metadata": {
    "deletable": true,
    "editable": true
   },
   "source": [
    "Structured Text Tokenizers: keyword\n",
    "-----------\n",
    "\n",
    "文字列全体をトークンとして扱う（区切らない）"
   ]
  },
  {
   "cell_type": "code",
   "execution_count": 4,
   "metadata": {
    "collapsed": false,
    "deletable": true,
    "editable": true
   },
   "outputs": [
    {
     "name": "stdout",
     "output_type": "stream",
     "text": [
      "[\n",
      "    \"I have a pen. I have an apple.\"\n",
      "]\n"
     ]
    }
   ],
   "source": [
    "char_filters = \"\"\n",
    "tokenizer = \"keyword\"\n",
    "filters = \"\"\n",
    "\n",
    "text=\"I have a pen. I have an apple.\"\n",
    "print(json.dumps([ i[\"token\"] for i in analyzer(INDEX, analyzer, char_filters, tokenizer, filters, text, explain=False)[\"tokens\"] ], indent=4, ensure_ascii=False))"
   ]
  },
  {
   "cell_type": "markdown",
   "metadata": {
    "deletable": true,
    "editable": true
   },
   "source": [
    "Structured Text Tokenizers: pattern\n",
    "-----------\n",
    "\n",
    "正規表現でトークン化する\n",
    "\n"
   ]
  },
  {
   "cell_type": "code",
   "execution_count": 5,
   "metadata": {
    "collapsed": false,
    "deletable": true,
    "editable": true
   },
   "outputs": [
    {
     "name": "stdout",
     "output_type": "stream",
     "text": [
      "[\n",
      "    \"I\", \n",
      "    \"have\", \n",
      "    \"a\", \n",
      "    \"pen\", \n",
      "    \"I\", \n",
      "    \"have\", \n",
      "    \"an\", \n",
      "    \"apple\", \n",
      "    \"Yes\", \n",
      "    \"I\", \n",
      "    \"have\"\n",
      "]\n"
     ]
    }
   ],
   "source": [
    "text=\"I have a pen. I have an apple. Yes, I have.\"\n",
    "\n",
    "char_filters=\"\"\n",
    "tokenizer = \"pattern\"\n",
    "filters=\"\"\n",
    "\n",
    "\n",
    "print(json.dumps([ i[\"token\"] for i in analyzer(INDEX, analyzer, char_filters, tokenizer, filters, text, explain=False)[\"tokens\"] ], indent=4, ensure_ascii=False))"
   ]
  },
  {
   "cell_type": "markdown",
   "metadata": {
    "deletable": true,
    "editable": true
   },
   "source": [
    "### pattern tokenizerその２\n",
    "\n",
    "`I` で区切ってみる\n"
   ]
  },
  {
   "cell_type": "code",
   "execution_count": 6,
   "metadata": {
    "collapsed": false,
    "deletable": true,
    "editable": true
   },
   "outputs": [
    {
     "data": {
      "text/plain": [
       "{u'acknowledged': True}"
      ]
     },
     "execution_count": 6,
     "metadata": {},
     "output_type": "execute_result"
    }
   ],
   "source": [
    "body=\"\"\"\n",
    "{\n",
    "  \"settings\": {\n",
    "    \"analysis\": {\n",
    "      \"tokenizer\": {\n",
    "        \"I_tokenizer\": {\n",
    "          \"type\": \"pattern\",\n",
    "          \"pattern\": \"I\"\n",
    "        }\n",
    "      }\n",
    "    }\n",
    "  }\n",
    "}\n",
    "\"\"\"\n",
    "\n",
    "es.indices.close(index=INDEX)\n",
    "es.indices.put_settings(index=INDEX, body=body)\n",
    "es.indices.open(index=INDEX)\n"
   ]
  },
  {
   "cell_type": "code",
   "execution_count": 7,
   "metadata": {
    "collapsed": false,
    "deletable": true,
    "editable": true
   },
   "outputs": [
    {
     "name": "stdout",
     "output_type": "stream",
     "text": [
      "[\n",
      "    \" have a pen. \", \n",
      "    \" have an apple. Yes\", \n",
      "    \" \", \n",
      "    \" have.\"\n",
      "]\n"
     ]
    }
   ],
   "source": [
    "text=\"I have a pen. I have an apple. Yes, I have.\"\n",
    "\n",
    "char_filters=[]\n",
    "tokenizer = \"I_tokenizer\"\n",
    "filters=[]\n",
    "\n",
    "print(json.dumps([ i[\"token\"] for i in analyzer(INDEX, analyzer, char_filters, tokenizer, filters, text, explain=False)[\"tokens\"] ], indent=4, ensure_ascii=False))"
   ]
  },
  {
   "cell_type": "code",
   "execution_count": 8,
   "metadata": {
    "collapsed": false,
    "deletable": true,
    "editable": true
   },
   "outputs": [
    {
     "name": "stdout",
     "output_type": "stream",
     "text": [
      "[\n",
      "    \"have a pen.\", \n",
      "    \"have an apple. Yes\", \n",
      "    \"\", \n",
      "    \"have.\"\n",
      "]\n"
     ]
    }
   ],
   "source": [
    "# 前後の空白削除は trim token filter を使う\n",
    "text=\"I have a pen. I have an apple. Yes, I have.\"\n",
    "\n",
    "char_filters=[]\n",
    "tokenizer = \"I_tokenizer\"\n",
    "filters=[\"trim\"]\n",
    "\n",
    "print(json.dumps([ i[\"token\"] for i in analyzer(INDEX, analyzer, char_filters, tokenizer, filters, text, explain=False)[\"tokens\"] ], indent=4, ensure_ascii=False))"
   ]
  },
  {
   "cell_type": "markdown",
   "metadata": {
    "deletable": true,
    "editable": true
   },
   "source": [
    "Structured Text Tokenizers: path_hierarchy\n",
    "------------"
   ]
  },
  {
   "cell_type": "code",
   "execution_count": 9,
   "metadata": {
    "collapsed": false,
    "deletable": true,
    "editable": true
   },
   "outputs": [
    {
     "name": "stdout",
     "output_type": "stream",
     "text": [
      "[\n",
      "    \"/path\", \n",
      "    \"/path/to\", \n",
      "    \"/path/to/command\"\n",
      "]\n"
     ]
    }
   ],
   "source": [
    "text=\"/path/to/command\"\n",
    "\n",
    "char_filters=[]\n",
    "tokenizer = \"path_hierarchy\"\n",
    "filters=[]\n",
    "\n",
    "print(json.dumps([ i[\"token\"] for i in analyzer(INDEX, analyzer, char_filters, tokenizer, filters, text, explain=False)[\"tokens\"] ], indent=4, ensure_ascii=False))"
   ]
  },
  {
   "cell_type": "code",
   "execution_count": 10,
   "metadata": {
    "collapsed": false,
    "deletable": true,
    "editable": true
   },
   "outputs": [
    {
     "name": "stdout",
     "output_type": "stream",
     "text": [
      "[\n",
      "    \"C:\\\\path\\to\\\\command\"\n",
      "]\n"
     ]
    }
   ],
   "source": [
    "text=\"C:\\path\\to\\command\"\n",
    "\n",
    "char_filters=[]\n",
    "tokenizer = \"path_hierarchy\"\n",
    "filters=[]\n",
    "\n",
    "print(json.dumps([ i[\"token\"] for i in analyzer(INDEX, analyzer, char_filters, tokenizer, filters, text, explain=False)[\"tokens\"] ], indent=4, ensure_ascii=False))"
   ]
  }
 ],
 "metadata": {
  "kernelspec": {
   "display_name": "Python 2",
   "language": "python",
   "name": "python2"
  },
  "language_info": {
   "codemirror_mode": {
    "name": "ipython",
    "version": 2
   },
   "file_extension": ".py",
   "mimetype": "text/x-python",
   "name": "python",
   "nbconvert_exporter": "python",
   "pygments_lexer": "ipython2",
   "version": "2.7.12"
  }
 },
 "nbformat": 4,
 "nbformat_minor": 2
}
