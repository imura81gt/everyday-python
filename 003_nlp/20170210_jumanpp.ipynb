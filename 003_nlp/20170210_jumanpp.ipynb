{
 "cells": [
  {
   "cell_type": "markdown",
   "metadata": {},
   "source": [
    "Juman++ を使う\n",
    "===========\n",
    "\n",
    "参考\n",
    "-------------\n",
    "\n",
    "Pythonで JUMAN++ を使用する方法 - 望月いちろうのREADME.md\n",
    "http://www.utali.io/entry/2016/10/20/202744\n",
    "\n",
    "Macで京大生まれの 形態素処理エンジン JUMAN++ を使用する - 望月いちろうのREADME.md\n",
    "http://www.utali.io/entry/2016/10/17/131508\n",
    "\n",
    "\n",
    "を参考にjumanpp, PyKNPをインストールしておく\n",
    "\n",
    "> KNPは日本語文の構文・格・照応解析を行うシステムです．形態素解析システム **JUMANの解析結果(形態素列)を入力** とし, 文節および基本句間の**係り受け関係**，**格関係**，**照応関係**を**出力**します． 係り受け関係，格関係および照応関係は，Webから自動構築した大規模格フレームに基づく確率的モデルにより決定します．\n",
    "\n",
    "\n",
    "\n",
    "\n",
    "    \n",
    "    \n",
    "### 公式\n",
    "\n",
    "PyKNP - KUROHASHI-KAWAHARA LAB\n",
    "http://nlp.ist.i.kyoto-u.ac.jp/index.php?PyKNP\n",
    "\n",
    "仕組み\n",
    "http://lotus.kuee.kyoto-u.ac.jp/nl-resource/jumanpp/doc/jumanpp-slide.pdf\n",
    "\n",
    "\n"
   ]
  },
  {
   "cell_type": "code",
   "execution_count": 1,
   "metadata": {
    "collapsed": false
   },
   "outputs": [
    {
     "name": "stdout",
     "output_type": "stream",
     "text": [
      "3.5.2 |Anaconda 4.2.0 (x86_64)| (default, Jul  2 2016, 17:52:12) \n",
      "[GCC 4.2.1 Compatible Apple LLVM 4.2 (clang-425.0.28)]\n",
      "{\n",
      "    \"1\": {\n",
      "        \"midasi\": \"外国\",\n",
      "        \"yomi\": \"がいこく\",\n",
      "        \"genkei\": \"外国\",\n",
      "        \"katuyou2\": \"*\",\n",
      "        \"katuyou1\": \"*\",\n",
      "        \"hinsi\": \"名詞\",\n",
      "        \"bunrui\": \"普通名詞\",\n",
      "        \"imis\": \"代表表記:外国/がいこく カテゴリ:場所-その他 ドメイン:政治\",\n",
      "        \"repname\": \"外国/がいこく\"\n",
      "    },\n",
      "    \"2\": {\n",
      "        \"midasi\": \"人\",\n",
      "        \"yomi\": \"じん\",\n",
      "        \"genkei\": \"人\",\n",
      "        \"katuyou2\": \"*\",\n",
      "        \"katuyou1\": \"*\",\n",
      "        \"hinsi\": \"名詞\",\n",
      "        \"bunrui\": \"普通名詞\",\n",
      "        \"imis\": \"代表表記:人/じん 漢字読み:音 カテゴリ:人\",\n",
      "        \"repname\": \"人/じん\"\n",
      "    },\n",
      "    \"4\": {\n",
      "        \"midasi\": \"参政\",\n",
      "        \"yomi\": \"さんせい\",\n",
      "        \"genkei\": \"参政\",\n",
      "        \"katuyou2\": \"*\",\n",
      "        \"katuyou1\": \"*\",\n",
      "        \"hinsi\": \"名詞\",\n",
      "        \"bunrui\": \"サ変名詞\",\n",
      "        \"imis\": \"代表表記:参政/さんせい カテゴリ:抽象物 ドメイン:政治\",\n",
      "        \"repname\": \"参政/さんせい\"\n",
      "    },\n",
      "    \"5\": {\n",
      "        \"midasi\": \"権\",\n",
      "        \"yomi\": \"けん\",\n",
      "        \"genkei\": \"権\",\n",
      "        \"katuyou2\": \"*\",\n",
      "        \"katuyou1\": \"*\",\n",
      "        \"hinsi\": \"名詞\",\n",
      "        \"bunrui\": \"普通名詞\",\n",
      "        \"imis\": \"代表表記:権/けん 漢字読み:音 カテゴリ:抽象物\",\n",
      "        \"repname\": \"権/けん\"\n",
      "    }\n",
      "}\n"
     ]
    }
   ],
   "source": [
    "import json\n",
    "import sys\n",
    "from pyknp import Jumanpp\n",
    "\n",
    "print(sys.version)\n",
    "\n",
    "jumanpp = Jumanpp()\n",
    "results = jumanpp.analysis('外国人参政権')\n",
    "mrph_list = {}\n",
    "\n",
    "for mrph in results.mrph_list():\n",
    "    mrph_attr = {}\n",
    "    mrph_list[mrph.mrph_id] = {}\n",
    "    mrph_attr['midasi'] = mrph.midasi\n",
    "    mrph_attr['yomi'] = mrph.yomi\n",
    "    mrph_attr['genkei'] = mrph.genkei\n",
    "    mrph_attr['hinsi'] = mrph.hinsi\n",
    "    mrph_attr['bunrui'] = mrph.bunrui\n",
    "    mrph_attr['katuyou1'] = mrph.katuyou1\n",
    "    mrph_attr['katuyou2'] = mrph.katuyou2\n",
    "    mrph_attr['imis'] = mrph.imis\n",
    "    mrph_attr['repname'] = mrph.repname\n",
    "    mrph_list[mrph.mrph_id] = mrph_attr\n",
    "\n",
    "print(json.dumps(mrph_list, indent=4, ensure_ascii=False))"
   ]
  },
  {
   "cell_type": "code",
   "execution_count": null,
   "metadata": {
    "collapsed": true
   },
   "outputs": [],
   "source": []
  }
 ],
 "metadata": {
  "anaconda-cloud": {},
  "kernelspec": {
   "display_name": "Python [conda root]",
   "language": "python",
   "name": "conda-root-py"
  },
  "language_info": {
   "codemirror_mode": {
    "name": "ipython",
    "version": 3
   },
   "file_extension": ".py",
   "mimetype": "text/x-python",
   "name": "python",
   "nbconvert_exporter": "python",
   "pygments_lexer": "ipython3",
   "version": "3.5.2"
  }
 },
 "nbformat": 4,
 "nbformat_minor": 1
}
